{
 "cells": [
  {
   "cell_type": "markdown",
   "metadata": {},
   "source": [
    "# LSTM Decoder-Encoder modell"
   ]
  },
  {
   "cell_type": "markdown",
   "metadata": {},
   "source": [
    "### Beskrivning hur koden körs"
   ]
  },
  {
   "cell_type": "markdown",
   "metadata": {},
   "source": [
    "##### **1. Importerad data** \n",
    " - FastText för ordvektorer: https://fasttext.cc/docs/en/crawl-vectors.html\n",
    " - Litet Eng-Fra korpus: https://www.manythings.org/anki/\n",
    " \n",
    "##### **2. Nedladdad data**\n",
    " - Vikter för LSTM Encoder - Decoder nätverk för units = 128\n",
    "\n",
    "##### **3. Importerade bibliotek**\n",
    " - Keras\n",
    " - Pandas\n",
    " - Numpy\n",
    " - Matplotlib\n",
    "\n",
    "##### **4. Struktur av kod**\n",
    "\n",
    " 1. Rensa text och dela upp engelska och franska meningar\n",
    " 2. Undersök struktur på data så som max längd på mening, antal unika ord (kommer användas vid träning)\n",
    " 3. Skapa en generator för träning\n",
    " 4. Skapa sekvens till sekvens modell med KERAS\n",
    " 5. Kompiler modell och börja träna\n",
    " 6. Möjlighet att ladda upp förtränade vikter av modellen för inter\n",
    " 6. Skapa modell för prediktion/interferens och ladda upp vikter från träning\n",
    " 7. Generera meningar rekursivt med interferens modellen"
   ]
  },
  {
   "cell_type": "markdown",
   "metadata": {},
   "source": [
    "### Ord Embedding från FastText "
   ]
  },
  {
   "cell_type": "code",
   "execution_count": 1,
   "metadata": {},
   "outputs": [],
   "source": [
    "import fasttext.util"
   ]
  },
  {
   "cell_type": "code",
   "execution_count": 2,
   "metadata": {},
   "outputs": [
    {
     "name": "stderr",
     "output_type": "stream",
     "text": [
      "Warning : `load_model` does not return WordVectorModel or SupervisedModel any more, but a `FastText` object which is very similar.\n",
      "Warning : `load_model` does not return WordVectorModel or SupervisedModel any more, but a `FastText` object which is very similar.\n"
     ]
    }
   ],
   "source": [
    "ft_eng = fasttext.load_model('cc.en.300.bin')\n",
    "ft_fra = fasttext.load_model(\"cc.fr.300.bin\")"
   ]
  },
  {
   "cell_type": "markdown",
   "metadata": {},
   "source": [
    "## Importerade bibliotek"
   ]
  },
  {
   "cell_type": "code",
   "execution_count": 3,
   "metadata": {},
   "outputs": [
    {
     "name": "stderr",
     "output_type": "stream",
     "text": [
      "Using TensorFlow backend.\n"
     ]
    }
   ],
   "source": [
    "from __future__ import print_function\n",
    "\n",
    "import pandas as pd\n",
    "import pickle\n",
    "import matplotlib.pyplot as plt\n",
    "import keras\n",
    "from keras.utils import plot_model\n",
    "from keras.models import Model\n",
    "from keras.layers import Input, LSTM, Dense, Embedding\n",
    "from keras.preprocessing.text import Tokenizer\n",
    "import numpy as np\n",
    "from sklearn.utils import shuffle\n",
    "from sklearn.model_selection import train_test_split\n",
    "import string\n",
    "import random\n",
    "from unicodedata import normalize"
   ]
  },
  {
   "cell_type": "markdown",
   "metadata": {},
   "source": [
    "## Preprocess"
   ]
  },
  {
   "cell_type": "markdown",
   "metadata": {},
   "source": [
    "Rensa data från antingen fra2.txt. Skapar listor med meningar för båda språk samt två vokabulär med unika ord."
   ]
  },
  {
   "cell_type": "code",
   "execution_count": 4,
   "metadata": {},
   "outputs": [],
   "source": [
    "\n",
    "_SOS = \"<SOS> \" #Start of string\n",
    "_EOS = \" <EOS>\" #End of string\n",
    "\n",
    "file_input = \"fra2.txt\" #Not modified\n",
    "num_samples = 50000\n",
    "\n",
    "def preprocess(file_input, num_samples):\n",
    "    \n",
    "    f_input = open(file_input,\"r\", encoding=\"utf-8\")\n",
    "    \n",
    "    input_sentences = [] \n",
    "    output_sentences = []\n",
    "    \n",
    "    input_vocab = set() \n",
    "    output_vocab = set() \n",
    "    lines_input = f_input.readlines()\n",
    "    \n",
    "    lines_input = lines_input[:num_samples]\n",
    "    random.Random(1).shuffle(lines_input)\n",
    "    \n",
    "    for i in range(len(lines_input)):\n",
    "        \n",
    "        input_sentence, output_sentence, _ = lines_input[i].translate(str.maketrans(\"\", \"\", string.punctuation + string.digits)).split(\"\\t\")\n",
    "        input_sentence, output_sentence = input_sentence.lower(), output_sentence.lower() \n",
    "\n",
    "        output_sentence = _SOS + output_sentence + _EOS\n",
    "        input_sentences.append(input_sentence.split())\n",
    "        output_sentences.append(output_sentence.split())\n",
    "\n",
    "        for word in input_sentence.split():\n",
    "            if word not in input_vocab:\n",
    "                input_vocab.add(word)\n",
    "                \n",
    "        for word in output_sentence.split():\n",
    "            if word not in output_vocab:\n",
    "                output_vocab.add(word)\n",
    "        \n",
    "\n",
    "    return input_sentences, output_sentences, input_vocab, output_vocab\n",
    "\n",
    "input_sentences, output_sentences, input_vocab, output_vocab = preprocess(file_input, num_samples)\n"
   ]
  },
  {
   "cell_type": "markdown",
   "metadata": {},
   "source": [
    "### Undersöker datans struktur för träning"
   ]
  },
  {
   "cell_type": "markdown",
   "metadata": {},
   "source": [
    "Dessa parametrar krävs för att kunna utföra träningen. Man kommer behövs skapa vektorer med lika stor längd vilket kommer vara max längden på meningarna i båda korpus."
   ]
  },
  {
   "cell_type": "code",
   "execution_count": 5,
   "metadata": {},
   "outputs": [
    {
     "name": "stdout",
     "output_type": "stream",
     "text": [
      "Number of English words 5998\n",
      "Number of French words 12613\n",
      "The longest English sentence is: 7\n",
      "The longest French sentence is: 16\n"
     ]
    }
   ],
   "source": [
    "input_vocab = sorted(list(input_vocab))\n",
    "output_vocab = sorted(list(output_vocab))\n",
    "\n",
    "num_input_words = len(input_vocab)+1 #Adding +1 because of padding\n",
    "num_output_words = len(output_vocab)+1 #Adding +1 because of padding\n",
    "\n",
    "max_input_sentence_size = max([len(sen) for sen in input_sentences])\n",
    "max_output_sentence_size = max([len(sen) for sen in output_sentences])\n",
    "\n",
    "print(\"Number of English words\", num_input_words)\n",
    "print(\"Number of French words\", num_output_words)\n",
    "print(\"The longest English sentence is:\", max_input_sentence_size)\n",
    "print(\"The longest French sentence is:\", max_output_sentence_size)"
   ]
  },
  {
   "cell_type": "markdown",
   "metadata": {},
   "source": [
    "#### Distribution av längden på meningarna "
   ]
  },
  {
   "cell_type": "code",
   "execution_count": 6,
   "metadata": {},
   "outputs": [
    {
     "data": {
      "image/png": "[encoded data removed]",
      "text/plain": [
       "<Figure size 432x288 with 2 Axes>"
      ]
     },
     "metadata": {
      "needs_background": "light"
     },
     "output_type": "display_data"
    }
   ],
   "source": [
    "def distribution(in_txts, out_txts):\n",
    "    in_l = []\n",
    "    out_l = []\n",
    "    for i in in_txts: in_l.append(len(i))\n",
    "    for i in out_txts: out_l.append(len(i))\n",
    "\n",
    "    length_df = pd.DataFrame({'eng':in_l, 'fra':out_l})\n",
    "    histo = length_df.hist(bins = 30, sharex=True, sharey=True,)\n",
    "\n",
    "    for ax in histo.flatten():\n",
    "        ax.set_xlabel(\"Meningslängd\")\n",
    "        ax.set_ylabel(\"Antal meningar\")\n",
    "    plt.show()\n",
    "    #plt.savefig(\"histoShuffleFirst20k\")\n",
    "distribution(input_sentences, output_sentences)"
   ]
  },
  {
   "cell_type": "markdown",
   "metadata": {},
   "source": [
    "### Dictionaries"
   ]
  },
  {
   "cell_type": "markdown",
   "metadata": {},
   "source": [
    "Skapar två dictionaries för att kunna hämta vilket ord har vilket index. Varför i+1 används är för att 0 kommer anses som padding i ett senare skede."
   ]
  },
  {
   "cell_type": "code",
   "execution_count": 7,
   "metadata": {},
   "outputs": [],
   "source": [
    "input_word2idx = dict([(word, i+1) for i, word in enumerate(input_vocab)])\n",
    "output_word2idx = dict([(word, i+1) for i, word in enumerate(output_vocab)])\n",
    "\n",
    "input_idx2word = dict([(i, word) for word, i in input_word2idx.items()])\n",
    "output_idx2word = dict([(i, word) for word, i in output_word2idx.items()])"
   ]
  },
  {
   "cell_type": "markdown",
   "metadata": {},
   "source": [
    "#### Träning/Test delning"
   ]
  },
  {
   "cell_type": "code",
   "execution_count": 8,
   "metadata": {},
   "outputs": [
    {
     "name": "stdout",
     "output_type": "stream",
     "text": [
      "40000 10000 40000 10000\n"
     ]
    },
    {
     "data": {
      "image/png": "[encoded data removed]",
      "text/plain": [
       "<Figure size 432x288 with 2 Axes>"
      ]
     },
     "metadata": {
      "needs_background": "light"
     },
     "output_type": "display_data"
    },
    {
     "data": {
      "image/png": "[encoded data removed]",
      "text/plain": [
       "<Figure size 432x288 with 2 Axes>"
      ]
     },
     "metadata": {
      "needs_background": "light"
     },
     "output_type": "display_data"
    }
   ],
   "source": [
    "input_training, input_test, output_training, output_test = train_test_split(input_sentences, \n",
    "                                                                            output_sentences, \n",
    "                                                                            test_size = 0.2, \n",
    "                                                                            random_state = 0)\n",
    "print(len(input_training), len(input_test), len(output_training), len(output_test))\n",
    "\n",
    "distribution(input_training, output_training)\n",
    "distribution(input_test, output_test)"
   ]
  },
  {
   "cell_type": "markdown",
   "metadata": {},
   "source": [
    "#### **Parametrar för träning**"
   ]
  },
  {
   "cell_type": "code",
   "execution_count": 9,
   "metadata": {},
   "outputs": [],
   "source": [
    "training_samples = len(input_training)\n",
    "validation_samples = len(input_test)\n",
    "batch_size = 256\n",
    "EPOCHS = 50\n",
    "NUM_HIDDEN_UNITS = 128\n",
    "EMBEDDING_SIZE = 300"
   ]
  },
  {
   "cell_type": "markdown",
   "metadata": {},
   "source": [
    "### Generator-funktion för att generera batch"
   ]
  },
  {
   "cell_type": "markdown",
   "metadata": {},
   "source": [
    "Skapar 3 matriser, 2 är för kodnings input & avkodnings input. Den tredje är skiftat så att <SOS> inte tas med för att kunna använda Teacher Forcing så att träningen går snabbare."
   ]
  },
  {
   "cell_type": "code",
   "execution_count": 51,
   "metadata": {},
   "outputs": [],
   "source": [
    "\n",
    "def batch_generator(X, y, batch_size, index = None):\n",
    "    #Shuffle for each epoch for generalization\n",
    "    if index == None:\n",
    "        training = list(zip(X, y))\n",
    "        random.shuffle(training)\n",
    "        X, y = zip(*training)\n",
    "    while True:\n",
    "        #For inference modell\n",
    "        if index != None and batch_size == 1:\n",
    "            encoder_input = np.zeros((batch_size, max_input_sentence_size),dtype='float32')\n",
    "            decoder_input = np.zeros((batch_size, max_output_sentence_size),dtype='float32')\n",
    "            decoder_output = np.zeros((batch_size, max_output_sentence_size, num_output_words),dtype='float32')\n",
    "            for i, (input_sentence, output_sentence) in enumerate(zip(X[index:index+batch_size], y[index:index+batch_size])):\n",
    "                for t, word in enumerate(input_sentence):\n",
    "                    t+=1\n",
    "                    encoder_input[i, -t] = input_word2idx[word]\n",
    "                for t, word in enumerate(output_sentence):\n",
    "                    decoder_input[i, t] = output_word2idx[word]\n",
    "                    if t>0:\n",
    "                        decoder_output[i, t-1, output_word2idx[word]] = 1.\n",
    "                    \n",
    "                yield([encoder_input, decoder_input], decoder_output)\n",
    "        #For training\n",
    "        else: \n",
    "            for j in range(0, len(X), batch_size):\n",
    "                encoder_input = np.zeros((batch_size, max_input_sentence_size),dtype='float32')\n",
    "                decoder_input = np.zeros((batch_size, max_output_sentence_size),dtype='float32')\n",
    "                decoder_output = np.zeros((batch_size, max_output_sentence_size, num_output_words),dtype='float32')\n",
    "                for i, (input_sentence, output_sentence) in enumerate(zip(X[j:j+batch_size], y[j:j+batch_size])):\n",
    "                    for t, word in enumerate(input_sentence):\n",
    "                        t+=1\n",
    "                        encoder_input[i, -t] = input_word2idx[word]\n",
    "                    for t, word in enumerate(output_sentence):\n",
    "                        decoder_input[i, t] = output_word2idx[word]\n",
    "                        if t>0:\n",
    "                            decoder_output[i, t-1, output_word2idx[word]] = 1.\n",
    "                    \n",
    "                yield([encoder_input, decoder_input], decoder_output)"
   ]
  },
  {
   "cell_type": "markdown",
   "metadata": {},
   "source": [
    "#### Skapa embedding matris för input"
   ]
  },
  {
   "cell_type": "code",
   "execution_count": 11,
   "metadata": {},
   "outputs": [
    {
     "name": "stdout",
     "output_type": "stream",
     "text": [
      "(5998, 300)\n",
      "(12613, 300)\n"
     ]
    }
   ],
   "source": [
    "embedding_matrix_input = np.zeros((num_input_words, 300))\n",
    "embedding_matrix_output = np.zeros((num_output_words, 300))\n",
    "\n",
    "for word, i in input_word2idx.items():\n",
    "    embedding_matrix_input[i] = ft_eng.get_word_vector(word) \n",
    "for word, i in output_word2idx.items():\n",
    "    embedding_matrix_output[i] = ft_fra.get_word_vector(word)\n",
    "\n",
    "print(embedding_matrix_input.shape)\n",
    "print(embedding_matrix_output.shape)\n",
    "\n",
    "    "
   ]
  },
  {
   "cell_type": "markdown",
   "metadata": {},
   "source": [
    "### Encoder - Decoder struktur\n",
    "**Encoder**\n",
    "1. Ett Input lager för Encoder,kopplat till E2. Dimension{max_in_sen}\n",
    "2. Embedding lager för Encoder, kopplat till E3.\n",
    "3. LSTM Encoder, kopplat till, kopplat till D3.\n",
    "\n",
    "**Decoder**\n",
    "1. Ett Input lager för Decoder, kopplat till D2.\n",
    "2. Ett Embedding lager för Decoder, kopplat till D3.\n",
    "3. LSTM Decoder, kopplat till D4.\n",
    "4. Softmax Dense lager till för output sannolikheter\n",
    " "
   ]
  },
  {
   "cell_type": "code",
   "execution_count": 12,
   "metadata": {},
   "outputs": [],
   "source": [
    "#Encoder Architecture\n",
    "\n",
    "encoder_input_layer = Input(shape=(None,))\n",
    "embedding_encoder_layer = Embedding(num_input_words, \n",
    "                         EMBEDDING_SIZE, \n",
    "                         weights=[embedding_matrix_input], \n",
    "                         input_length=max_input_sentence_size, \n",
    "                         trainable = False, \n",
    "                         mask_zero = True)\n",
    "\n",
    "encoder_embedding = embedding_encoder_layer(encoder_input_layer)\n",
    "\n",
    "encoder_lstm_layer = LSTM(units=NUM_HIDDEN_UNITS, return_state=True)\n",
    "encoder_outputs, hidden_state, cell_state = encoder_lstm_layer(encoder_embedding)\n",
    "encoder_states = [hidden_state, cell_state] \n",
    "\n",
    "\n",
    "#Decoder Architecture\n",
    "decoder_input_layer = Input(shape=(None,))\n",
    "embedding_decoder_layer = Embedding(num_output_words, \n",
    "                          EMBEDDING_SIZE, \n",
    "                          weights=[embedding_matrix_output], \n",
    "                          input_length = max_output_sentence_size, \n",
    "                          trainable = False, \n",
    "                          mask_zero = True)\n",
    "\n",
    "decoder_embedding = embedding_decoder_layer(decoder_input_layer)\n",
    "\n",
    "decoder_lstm_layer = LSTM(units=NUM_HIDDEN_UNITS, return_sequences=True, return_state=True)\n",
    "decoder_outputs, _ , _ = decoder_lstm_layer(decoder_embedding, initial_state=encoder_states) \n",
    "\n",
    "#Softmax Arcitecture\n",
    "decoder_softmax_layer = Dense(num_output_words, activation='softmax')\n",
    "decoder_outputs = decoder_softmax_layer(decoder_outputs)\n"
   ]
  },
  {
   "cell_type": "markdown",
   "metadata": {},
   "source": [
    "##### *Modell sammanfattning*"
   ]
  },
  {
   "cell_type": "code",
   "execution_count": 13,
   "metadata": {},
   "outputs": [],
   "source": [
    "model = Model([encoder_input_layer, decoder_input_layer], decoder_outputs)\n",
    "opt = keras.optimizers.Adam(learning_rate=0.01)\n",
    "model.compile(optimizer= opt, loss=\"categorical_crossentropy\", metrics=[\"accuracy\"])"
   ]
  },
  {
   "cell_type": "markdown",
   "metadata": {},
   "source": [
    "### Träning av algoritm"
   ]
  },
  {
   "cell_type": "code",
   "execution_count": 29,
   "metadata": {},
   "outputs": [
    {
     "name": "stdout",
     "output_type": "stream",
     "text": [
      "Epoch 1/50\n",
      "156/156 [==============================] - 110s 703ms/step - loss: 1.8583 - accuracy: 0.2221 - val_loss: 1.6193 - val_accuracy: 0.2829\n",
      "Epoch 2/50\n",
      "156/156 [==============================] - 109s 696ms/step - loss: 1.2985 - accuracy: 0.3311 - val_loss: 1.1290 - val_accuracy: 0.3640\n",
      "Epoch 3/50\n",
      "156/156 [==============================] - 108s 694ms/step - loss: 0.9884 - accuracy: 0.3882 - val_loss: 0.9777 - val_accuracy: 0.4023\n",
      "Epoch 4/50\n",
      "156/156 [==============================] - 109s 701ms/step - loss: 0.8196 - accuracy: 0.4258 - val_loss: 0.8863 - val_accuracy: 0.4299\n",
      "Epoch 5/50\n",
      "156/156 [==============================] - 108s 693ms/step - loss: 0.6952 - accuracy: 0.4582 - val_loss: 0.8305 - val_accuracy: 0.4489\n",
      "Epoch 6/50\n",
      "156/156 [==============================] - 108s 695ms/step - loss: 0.6011 - accuracy: 0.4862 - val_loss: 0.7948 - val_accuracy: 0.4649\n",
      "Epoch 7/50\n",
      "156/156 [==============================] - 112s 717ms/step - loss: 0.5298 - accuracy: 0.5127 - val_loss: 0.7774 - val_accuracy: 0.4726\n",
      "Epoch 8/50\n",
      "156/156 [==============================] - 111s 711ms/step - loss: 0.4742 - accuracy: 0.5369 - val_loss: 0.7550 - val_accuracy: 0.4834\n",
      "Epoch 9/50\n",
      "156/156 [==============================] - 112s 716ms/step - loss: 0.4302 - accuracy: 0.5577 - val_loss: 0.7491 - val_accuracy: 0.4854\n",
      "Epoch 10/50\n",
      "156/156 [==============================] - 111s 713ms/step - loss: 0.3957 - accuracy: 0.5753 - val_loss: 0.7377 - val_accuracy: 0.4918\n",
      "Epoch 11/50\n",
      "156/156 [==============================] - 112s 715ms/step - loss: 0.3679 - accuracy: 0.5909 - val_loss: 0.7366 - val_accuracy: 0.4949\n",
      "Epoch 12/50\n",
      "156/156 [==============================] - 109s 698ms/step - loss: 0.3431 - accuracy: 0.6038 - val_loss: 0.7338 - val_accuracy: 0.4977\n",
      "Epoch 13/50\n",
      "156/156 [==============================] - 111s 713ms/step - loss: 0.3201 - accuracy: 0.6170 - val_loss: 0.7359 - val_accuracy: 0.4983\n",
      "Epoch 14/50\n",
      "156/156 [==============================] - 113s 725ms/step - loss: 0.3019 - accuracy: 0.6272 - val_loss: 0.7392 - val_accuracy: 0.4978\n",
      "Epoch 15/50\n",
      "156/156 [==============================] - 111s 712ms/step - loss: 0.2872 - accuracy: 0.6356 - val_loss: 0.7397 - val_accuracy: 0.5024\n",
      "Epoch 16/50\n",
      "156/156 [==============================] - 113s 723ms/step - loss: 0.2742 - accuracy: 0.6424 - val_loss: 0.7494 - val_accuracy: 0.5003\n",
      "Epoch 17/50\n",
      "156/156 [==============================] - 113s 722ms/step - loss: 0.2611 - accuracy: 0.6500 - val_loss: 0.7489 - val_accuracy: 0.5014\n",
      "Epoch 18/50\n",
      "156/156 [==============================] - 110s 706ms/step - loss: 0.2496 - accuracy: 0.6565 - val_loss: 0.7617 - val_accuracy: 0.5009\n",
      "Epoch 19/50\n",
      "156/156 [==============================] - 112s 719ms/step - loss: 0.2406 - accuracy: 0.6615 - val_loss: 0.7558 - val_accuracy: 0.5029\n",
      "Epoch 20/50\n",
      "156/156 [==============================] - 111s 711ms/step - loss: 0.2328 - accuracy: 0.6660 - val_loss: 0.7671 - val_accuracy: 0.4930\n",
      "Epoch 21/50\n",
      "156/156 [==============================] - 110s 708ms/step - loss: 0.2276 - accuracy: 0.6686 - val_loss: 0.7683 - val_accuracy: 0.4971\n",
      "Epoch 22/50\n",
      "156/156 [==============================] - 114s 729ms/step - loss: 0.2233 - accuracy: 0.6700 - val_loss: 0.7708 - val_accuracy: 0.5031\n",
      "Epoch 23/50\n",
      "156/156 [==============================] - 113s 726ms/step - loss: 0.2141 - accuracy: 0.6756 - val_loss: 0.7714 - val_accuracy: 0.5022\n",
      "Epoch 24/50\n",
      "156/156 [==============================] - 113s 723ms/step - loss: 0.2040 - accuracy: 0.6826 - val_loss: 0.7733 - val_accuracy: 0.5002\n",
      "Epoch 25/50\n",
      "156/156 [==============================] - 111s 712ms/step - loss: 0.1944 - accuracy: 0.6890 - val_loss: 0.7810 - val_accuracy: 0.5033\n",
      "Epoch 26/50\n",
      "156/156 [==============================] - 109s 701ms/step - loss: 0.1880 - accuracy: 0.6936 - val_loss: 0.7997 - val_accuracy: 0.5004\n",
      "Epoch 27/50\n",
      "156/156 [==============================] - 110s 705ms/step - loss: 0.1835 - accuracy: 0.6961 - val_loss: 0.7992 - val_accuracy: 0.5013\n",
      "Epoch 28/50\n",
      "156/156 [==============================] - 110s 702ms/step - loss: 0.1818 - accuracy: 0.6954 - val_loss: 0.7927 - val_accuracy: 0.5026\n",
      "Epoch 29/50\n",
      "156/156 [==============================] - 110s 708ms/step - loss: 0.1789 - accuracy: 0.6968 - val_loss: 0.7991 - val_accuracy: 0.5006\n",
      "Epoch 30/50\n",
      "156/156 [==============================] - 109s 699ms/step - loss: 0.1758 - accuracy: 0.6986 - val_loss: 0.8095 - val_accuracy: 0.4963\n",
      "Epoch 31/50\n",
      "156/156 [==============================] - 111s 710ms/step - loss: 0.1722 - accuracy: 0.7016 - val_loss: 0.8195 - val_accuracy: 0.4971\n",
      "Epoch 32/50\n",
      "156/156 [==============================] - 109s 699ms/step - loss: 0.1683 - accuracy: 0.7039 - val_loss: 0.8219 - val_accuracy: 0.4995\n",
      "Epoch 33/50\n",
      "156/156 [==============================] - 112s 721ms/step - loss: 0.1625 - accuracy: 0.7077 - val_loss: 0.8291 - val_accuracy: 0.5006\n",
      "Epoch 34/50\n",
      "156/156 [==============================] - 113s 723ms/step - loss: 0.1593 - accuracy: 0.7096 - val_loss: 0.8391 - val_accuracy: 0.4986\n",
      "Epoch 35/50\n",
      "156/156 [==============================] - 111s 710ms/step - loss: 0.1549 - accuracy: 0.7128 - val_loss: 0.8411 - val_accuracy: 0.4988\n",
      "Epoch 36/50\n",
      "156/156 [==============================] - 111s 713ms/step - loss: 0.1507 - accuracy: 0.7148 - val_loss: 0.8392 - val_accuracy: 0.4998\n",
      "Epoch 37/50\n",
      "156/156 [==============================] - 112s 720ms/step - loss: 0.1471 - accuracy: 0.7176 - val_loss: 0.8430 - val_accuracy: 0.4975\n",
      "Epoch 38/50\n",
      "156/156 [==============================] - 112s 718ms/step - loss: 0.1431 - accuracy: 0.7208 - val_loss: 0.8465 - val_accuracy: 0.4992\n",
      "Epoch 39/50\n",
      "156/156 [==============================] - 113s 727ms/step - loss: 0.1402 - accuracy: 0.7230 - val_loss: 0.8578 - val_accuracy: 0.5005\n",
      "Epoch 40/50\n",
      "156/156 [==============================] - 111s 710ms/step - loss: 0.1377 - accuracy: 0.7248 - val_loss: 0.8675 - val_accuracy: 0.4977\n",
      "Epoch 41/50\n",
      "156/156 [==============================] - 113s 724ms/step - loss: 0.1350 - accuracy: 0.7260 - val_loss: 0.8689 - val_accuracy: 0.4946\n",
      "Epoch 42/50\n",
      "156/156 [==============================] - 113s 725ms/step - loss: 0.1341 - accuracy: 0.7263 - val_loss: 0.8687 - val_accuracy: 0.4944\n",
      "Epoch 43/50\n",
      "156/156 [==============================] - 110s 706ms/step - loss: 0.1323 - accuracy: 0.7277 - val_loss: 0.8725 - val_accuracy: 0.4963\n",
      "Epoch 44/50\n",
      "156/156 [==============================] - 113s 725ms/step - loss: 0.1307 - accuracy: 0.7287 - val_loss: 0.8792 - val_accuracy: 0.4960\n",
      "Epoch 45/50\n",
      "156/156 [==============================] - 110s 707ms/step - loss: 0.1307 - accuracy: 0.7278 - val_loss: 0.8869 - val_accuracy: 0.4975\n",
      "Epoch 46/50\n",
      "156/156 [==============================] - 109s 697ms/step - loss: 0.1294 - accuracy: 0.7287 - val_loss: 0.8913 - val_accuracy: 0.4958\n",
      "Epoch 47/50\n",
      "156/156 [==============================] - 109s 698ms/step - loss: 0.1274 - accuracy: 0.7297 - val_loss: 0.8931 - val_accuracy: 0.4936\n",
      "Epoch 48/50\n",
      "156/156 [==============================] - 109s 702ms/step - loss: 0.1255 - accuracy: 0.7314 - val_loss: 0.9003 - val_accuracy: 0.4935\n",
      "Epoch 49/50\n",
      "156/156 [==============================] - 108s 692ms/step - loss: 0.1235 - accuracy: 0.7329 - val_loss: 0.9051 - val_accuracy: 0.4933\n",
      "Epoch 50/50\n",
      "156/156 [==============================] - 108s 694ms/step - loss: 0.1212 - accuracy: 0.7346 - val_loss: 0.9149 - val_accuracy: 0.4921\n"
     ]
    }
   ],
   "source": [
    "\n",
    "history = model.fit(batch_generator(input_training, output_training, batch_size = batch_size),\n",
    "                    steps_per_epoch = training_samples//batch_size,\n",
    "                    epochs=EPOCHS,\n",
    "                    validation_data = batch_generator(input_test, output_test, batch_size = batch_size),\n",
    "                    validation_steps = validation_samples//batch_size)"
   ]
  },
  {
   "cell_type": "markdown",
   "metadata": {},
   "source": [
    "### Plottning av modellens säkerhet och förlust"
   ]
  },
  {
   "cell_type": "code",
   "execution_count": 30,
   "metadata": {},
   "outputs": [
    {
     "data": {
      "image/png": "[encoded data removed]",
      "text/plain": [
       "<Figure size 432x288 with 1 Axes>"
      ]
     },
     "metadata": {
      "needs_background": "light"
     },
     "output_type": "display_data"
    },
    {
     "data": {
      "text/plain": [
       "<Figure size 432x288 with 0 Axes>"
      ]
     },
     "metadata": {},
     "output_type": "display_data"
    }
   ],
   "source": [
    "import matplotlib.pyplot as plt\n",
    "plt.plot(history.history['accuracy'])\n",
    "plt.plot(history.history['val_accuracy'])\n",
    "plt.title('model accuracy')\n",
    "plt.ylabel('accuracy')\n",
    "plt.xlabel('epoch')\n",
    "plt.legend(['train', 'test'], loc='upper left')\n",
    "plt.show()\n",
    "plt.savefig(\"LR001K50kU128B256ACC\")"
   ]
  },
  {
   "cell_type": "code",
   "execution_count": 31,
   "metadata": {},
   "outputs": [
    {
     "data": {
      "image/png": "[encoded data removed]",
      "text/plain": [
       "<Figure size 432x288 with 1 Axes>"
      ]
     },
     "metadata": {
      "needs_background": "light"
     },
     "output_type": "display_data"
    },
    {
     "data": {
      "text/plain": [
       "<Figure size 432x288 with 0 Axes>"
      ]
     },
     "metadata": {},
     "output_type": "display_data"
    }
   ],
   "source": [
    "plt.plot(history.history['loss'])\n",
    "plt.plot(history.history['val_loss'])\n",
    "plt.title('model loss')\n",
    "plt.ylabel('loss')\n",
    "plt.xlabel('epoch')\n",
    "plt.legend(['train', 'test'], loc='upper left')\n",
    "plt.show()\n",
    "plt.savefig(\"LR001K50kU128B256LOSS\")"
   ]
  },
  {
   "cell_type": "markdown",
   "metadata": {},
   "source": [
    "## Inference modellen"
   ]
  },
  {
   "cell_type": "markdown",
   "metadata": {},
   "source": [
    ">**Här görs två nya modeller med dem vikter som har tränats tidigare. En som är kodaren och en som är avkodaren. Kodaren är endast tillför att förse avkodaren med initiala tillstånden c & h. Resten sköter avkodaren som helt enkelt arbetar rekursivt för att få ut en slutlig mening.**"
   ]
  },
  {
   "cell_type": "code",
   "execution_count": 14,
   "metadata": {},
   "outputs": [],
   "source": [
    "\n",
    "enc_model = Model(encoder_input_layer, encoder_states)\n",
    "\n",
    "decoder_input_hidden_state = Input(shape=(NUM_HIDDEN_UNITS,))\n",
    "decoder_input_cell_state = Input(shape=(NUM_HIDDEN_UNITS,))\n",
    "decoder_input_states = [decoder_input_hidden_state, decoder_input_cell_state ]\n",
    "\n",
    "decoder_embedding_input = embedding_decoder_layer(decoder_input_layer)\n",
    "\n",
    "decoder_outputs, hidden_state, cell_state = decoder_lstm_layer(decoder_embedding_input, initial_state=decoder_input_states)\n",
    "decoder_output_states = [hidden_state, cell_state]\n",
    "decoder_outputs = decoder_softmax_layer(decoder_outputs)\n",
    "\n",
    "dec_model = Model([decoder_input_layer] + decoder_input_states, [decoder_outputs] + decoder_output_states)\n",
    "\n"
   ]
  },
  {
   "cell_type": "code",
   "execution_count": 33,
   "metadata": {},
   "outputs": [],
   "source": [
    "model.save_weights(\"lstm_hidden_layers_128.h5\")"
   ]
  },
  {
   "cell_type": "code",
   "execution_count": 15,
   "metadata": {},
   "outputs": [],
   "source": [
    "model.load_weights('lstm_hidden_layers_128.h5')"
   ]
  },
  {
   "cell_type": "markdown",
   "metadata": {},
   "source": [
    "## Prediktion av mening"
   ]
  },
  {
   "cell_type": "markdown",
   "metadata": {},
   "source": [
    ">**Här utförs den rekursiva prediktionen där vi använder Greedy Search för att idenfiera vilket index har högst sannolikhet mellan output orden m.h.a argmax. När detta ord är hittat, adderas den till prediktionen och sedan används för nästa iteration.**"
   ]
  },
  {
   "cell_type": "code",
   "execution_count": 17,
   "metadata": {},
   "outputs": [],
   "source": [
    "def decode_sequence(input_seq):\n",
    "    states_value = enc_model.predict(input_seq)\n",
    "\n",
    "    target_seq = np.zeros((1,1))\n",
    "    target_seq[0, 0] = output_word2idx[\"<SOS>\"]\n",
    "    stop_condition = False\n",
    "    decoded_sentence = list()\n",
    "    decode_sentence_text = \"\"\n",
    "    while not stop_condition:\n",
    "        output_tokens, h, c = dec_model.predict([target_seq] + states_value)\n",
    "        \n",
    "        sampled_token_index = np.argmax(output_tokens[0, -1, :])\n",
    "        sampled_word = output_idx2word[sampled_token_index]\n",
    "    \n",
    "    \n",
    "        if sampled_word == \"<EOS>\" or len(decoded_sentence) > max_output_sentence_size:\n",
    "            stop_condition = True\n",
    "        else:\n",
    "            decoded_sentence.append(sampled_word)\n",
    "            decode_sentence_text = decode_sentence_text + \" \" + sampled_word\n",
    "            \n",
    "        target_seq = np.zeros((1,1))\n",
    "        target_seq[0, 0] = output_word2idx[sampled_word]\n",
    "        states_value = [h, c]\n",
    "    return decode_sentence_text\n"
   ]
  },
  {
   "cell_type": "markdown",
   "metadata": {},
   "source": [
    "### Funktion för att generera kodning-matris för godtycklig engelsk mening"
   ]
  },
  {
   "cell_type": "code",
   "execution_count": 38,
   "metadata": {},
   "outputs": [],
   "source": [
    "def new_sentence(input_sentence):\n",
    "    encoder_input = np.zeros((1, max_input_sentence_size),dtype='float32')\n",
    "    for t, word in enumerate(input_sentence):\n",
    "        t+=1\n",
    "        encoder_input[0, -t] = input_word2idx[word]  \n",
    "    return encoder_input"
   ]
  },
  {
   "cell_type": "markdown",
   "metadata": {},
   "source": [
    "#### Översätta ny mening\n",
    ">**Här behöver man skriva in en mening på engelska. Därefter kan man se hur bra modeller är i jämförelse\n",
    "med riktiga översättningen**"
   ]
  },
  {
   "cell_type": "code",
   "execution_count": 43,
   "metadata": {},
   "outputs": [
    {
     "name": "stdin",
     "output_type": "stream",
     "text": [
      "Skriv in en mening på engelska:  I LIKE CaNDY\n"
     ]
    }
   ],
   "source": [
    "while True: \n",
    "    input_sentence = input(\"Skriv in en mening på engelska: \").lower()\n",
    "    if input_sentence == \"exit\":\n",
    "        break\n",
    "    try:\n",
    "        for word in input_sentence.split():\n",
    "            input_word2idx[word]\n",
    "        break\n",
    "    except:\n",
    "        print(\"Din mening innehåller ord som inte modellen är tränad på. Testa igen!\")\n",
    "            "
   ]
  },
  {
   "cell_type": "code",
   "execution_count": 44,
   "metadata": {},
   "outputs": [
    {
     "name": "stdout",
     "output_type": "stream",
     "text": [
      "Engelska mening: i like candy\n",
      "Franska översatta mening:  jaime le fromage\n"
     ]
    }
   ],
   "source": [
    "sentence_data = new_sentence_generator(input_sentence.split())\n",
    "decoded_sentence = decode_sequence(sentence_data)\n",
    "print(\"Engelska mening:\", input_sentence)\n",
    "print(\"Franska översatta mening:\", decoded_sentence)"
   ]
  },
  {
   "cell_type": "markdown",
   "metadata": {},
   "source": [
    "#### Översätta mening från träningsdata\n",
    ">**Här generas 10 slumpartade meningar från träningskorpuset för att identifiera hur bra modellen tränades**"
   ]
  },
  {
   "cell_type": "code",
   "execution_count": 53,
   "metadata": {},
   "outputs": [
    {
     "name": "stdout",
     "output_type": "stream",
     "text": [
      "Engelsk mening: ['i', 'hardboiled', 'an', 'egg']\n",
      "Fransk mening: ['<SOS>', 'jai', 'cuit', 'un', 'œuf', 'dur', '<EOS>']\n",
      "Förutspådd mening:  jaime une nouvelle carte\n",
      "\n",
      "Engelsk mening: ['this', 'is', 'boring']\n",
      "Fransk mening: ['<SOS>', 'cest', 'ennuyeux', '<EOS>']\n",
      "Förutspådd mening:  cest ennuyeux\n",
      "\n",
      "Engelsk mening: ['im', 'aware', 'of', 'that']\n",
      "Fransk mening: ['<SOS>', 'jen', 'suis', 'consciente', '<EOS>']\n",
      "Förutspådd mening:  jen suis consciente\n",
      "\n",
      "Engelsk mening: ['ill', 'lend', 'it', 'to', 'you']\n",
      "Fransk mening: ['<SOS>', 'je', 'vous', 'la', 'prêterai', '<EOS>']\n",
      "Förutspådd mening:  je te le prêterai\n",
      "\n",
      "Engelsk mening: ['tom', 'came', 'home']\n",
      "Fransk mening: ['<SOS>', 'tom', 'est', 'rentré', 'à', 'la', 'maison', '<EOS>']\n",
      "Förutspådd mening:  tom est rentré chez moi\n",
      "\n",
      "Engelsk mening: ['youre', 'no', 'saint']\n",
      "Fransk mening: ['<SOS>', 'vous', 'nêtes', 'pas', 'un', 'saint', '<EOS>']\n",
      "Förutspådd mening:  tu nes pas un saint\n",
      "\n",
      "Engelsk mening: ['i', 'cant', 'come', 'now']\n",
      "Fransk mening: ['<SOS>', 'je', 'ne', 'peux', 'pas', 'venir', 'maintenant', '<EOS>']\n",
      "Förutspådd mening:  je ne peux pas y aller\n",
      "\n",
      "Engelsk mening: ['youre', 'annoying', 'me']\n",
      "Fransk mening: ['<SOS>', 'tu', 'ménerves', '<EOS>']\n",
      "Förutspådd mening:  tu ménerves\n",
      "\n",
      "Engelsk mening: ['im', 'blind']\n",
      "Fransk mening: ['<SOS>', 'je', 'suis', 'aveugle', '<EOS>']\n",
      "Förutspådd mening:  je suis aveugle\n",
      "\n",
      "Engelsk mening: ['have', 'a', 'seat']\n",
      "Fransk mening: ['<SOS>', 'prenez', 'place', '<EOS>']\n",
      "Förutspådd mening:  prends place\n",
      "\n"
     ]
    }
   ],
   "source": [
    "predicted_sentences = list()\n",
    "for i in random.sample(range(0, len(input_training)-1), 10):\n",
    "    train_gen = batch_generator(input_training, output_training, batch_size = 1, index = i)\n",
    "    (input_seq, actual_output), _ = next(train_gen)\n",
    "\n",
    "    decoded_sentence = decode_sequence(input_seq)\n",
    "    print(\"Engelsk mening:\",input_training[i])\n",
    "    print(\"Fransk mening:\", output_training[i])\n",
    "    print(\"Förutspådd mening:\", decoded_sentence)\n",
    "    print()"
   ]
  },
  {
   "cell_type": "code",
   "execution_count": null,
   "metadata": {},
   "outputs": [],
   "source": []
  }
 ],
 "metadata": {
  "environment": {
   "name": "tf2-2-3-cpu.2-3.m56",
   "type": "gcloud",
   "uri": "gcr.io/deeplearning-platform-release/tf2-2-3-cpu.2-3:m56"
  },
  "kernelspec": {
   "display_name": "Python 3",
   "language": "python",
   "name": "python3"
  },
  "language_info": {
   "codemirror_mode": {
    "name": "ipython",
    "version": 3
   },
   "file_extension": ".py",
   "mimetype": "text/x-python",
   "name": "python",
   "nbconvert_exporter": "python",
   "pygments_lexer": "ipython3",
   "version": "3.7.8"
  }
 },
 "nbformat": 4,
 "nbformat_minor": 4
}
